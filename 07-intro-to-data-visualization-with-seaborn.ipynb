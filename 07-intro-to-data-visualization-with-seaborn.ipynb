{
 "cells": [
  {
   "cell_type": "markdown",
   "id": "9182e1ea-d948-496d-9800-1a1a1a550742",
   "metadata": {
    "id": "f9e13780-fcf2-4e66-8958-b47802dead91"
   },
   "source": [
    "# Chapter 7. Introduction to Data Visualization with Seaborn\n",
    "\n"
   ]
  },
  {
   "cell_type": "markdown",
   "id": "3d6dfeed",
   "metadata": {},
   "source": [
    "Seaborn is a powerful Python library for creating data visualizations. It was developed in order to make it easy to create the most common types of plots. The plot can be created with just a few lines of Seaborn code.\n",
    "\n",
    "- Data visualization is often a huge component of both the data exploration phase and the communication of results\n",
    "- Advantages:\n",
    "   1. Seaborn's main purpose is to make data visualization easy.\n",
    "   2. Seaborn works extremely well with pandas data structures.\n",
    "   3. Finally, it's built on top of Matplotlib, which is another Python visualization library."
   ]
  },
  {
   "cell_type": "markdown",
   "id": "b5b5cb4a",
   "metadata": {},
   "source": [
    "## 7.1 Introduction to Seaborn\n",
    "\n"
   ]
  },
  {
   "cell_type": "markdown",
   "id": "25f7e0ee",
   "metadata": {},
   "source": [
    "## Getting started\n",
    "\n",
    "```\n",
    "import matplotlib.pyplot as plt\n",
    "import seaborn as sns\n",
    "```"
   ]
  },
  {
   "cell_type": "markdown",
   "id": "24d279c6",
   "metadata": {},
   "source": [
    "## Scatter plot\n",
    "\n",
    "```\n",
    "import matplotlib.pyplot as plt\n",
    "import seaborn as sns\n",
    "\n",
    "height = [62, 64, 69, 75, 66, 68, 65, 71, 76, 33]\n",
    "weight = [120, 136, 148, 175, 137, 165, 154, 172, 200, 187]\n",
    "\n",
    "sns.scatterplot(x=height, y=weight)\n",
    "plt.show()\n",
    "```"
   ]
  },
  {
   "cell_type": "markdown",
   "id": "3cba0e34",
   "metadata": {},
   "source": [
    "## Count plot\n",
    "\n",
    "```\n",
    "import matplotlib.pyplot as plt\n",
    "import seaborn as sns\n",
    "\n",
    "gender = [\"Female\", \"Female\", \"Female\", \"Female\", \n",
    "          \"Male\", \"Male\", \"Male\", \"Male\", \"Male\", \"Male\"]\n",
    "\n",
    "sns.countplot(x=gender)\n",
    "plt.show()\n",
    "```"
   ]
  },
  {
   "cell_type": "markdown",
   "id": "f4e895fe",
   "metadata": {},
   "source": [
    "## Using pandas with Seaborn"
   ]
  },
  {
   "cell_type": "markdown",
   "id": "251ebe98",
   "metadata": {},
   "source": [
    "### Pandas\n",
    "\n",
    "- A python library for data analysis.\n",
    "- It can easily read datasets from many types of files including csv and txt files.\n",
    "- pandas supports several types of data structures, but the most common one is the DataFrame object.\n",
    "\n",
    "```\n",
    "import pandas as pd\n",
    "df = pd.read_csv(\"file.csv\")\n",
    "df.head()\n",
    "```"
   ]
  },
  {
   "cell_type": "markdown",
   "id": "d028f2bb",
   "metadata": {},
   "source": [
    "### Using dataframes with countplot()\n",
    "\n",
    "How to make a count plot with a DataFrame instead of a list of data.\n",
    "\n",
    "- Important observation: Seaborn looks OK with **TIDY** dataframes.\n",
    "   - \"Tidy data\" means that each observation has its own row and each variable has its own column.\n",
    "\n",
    "```\n",
    "import pandas as pd\n",
    "import matplotlib.pyplot as plt\n",
    "import seaborn as sns\n",
    "\n",
    "df = pd.read_csv(\"file.csv\")\n",
    "sns.countplot(x=\"how_masculine\", data=df)\n",
    "plt.show()\n",
    "```"
   ]
  },
  {
   "cell_type": "markdown",
   "id": "069909bb",
   "metadata": {},
   "source": [
    "### Adding a third variable with hue\n",
    "\n",
    "Another big advantage that Seaborn offers is the ability to quickly add a third variable to your plots by adding color."
   ]
  },
  {
   "cell_type": "markdown",
   "id": "ca2410ab",
   "metadata": {},
   "source": [
    "#### 1. Basic scatter plot\n",
    "\n",
    "```\n",
    "import pandas as pd\n",
    "import matplotlib.pyplot as plt\n",
    "import seaborn as sns\n",
    "\n",
    "df = pd.read_csv(\"file.csv\")\n",
    "sns.countplot(x=\"total_bill\", y=\"tip\", data=df)\n",
    "plt.show()\n",
    "```"
   ]
  },
  {
   "cell_type": "markdown",
   "id": "e66cc662",
   "metadata": {},
   "source": [
    "#### 2. Scatter plot with ``hue``\n",
    "\n",
    "    - You can set the \"hue\" parameter equal to the DataFrame column name and then Seaborn will automatically color each point\n",
    "    - It will add a legend to the plot automatically\n",
    "    - Hue is available in most of Seaborn's plot types.\n",
    "\n",
    "```\n",
    "import pandas as pd\n",
    "import matplotlib.pyplot as plt\n",
    "import seaborn as sns\n",
    "\n",
    "df = pd.read_csv(\"file.csv\")\n",
    "sns.scatter(x=\"total_bill\", y=\"tip\", data=df, \n",
    "              hue=\"smoker\")\n",
    "plt.show()\n",
    "```"
   ]
  },
  {
   "cell_type": "markdown",
   "id": "b3648194",
   "metadata": {},
   "source": [
    "#### 3. Setting hue order with ``hue_order``\n",
    "    \n",
    "- Hue also allows you to assert more control over the ordering and coloring of each value.\n",
    "    - The \"hue order\" parameter takes in a list of values and will set the order of the values in the plot accordingly.\n",
    "\n",
    "```\n",
    "import pandas as pd\n",
    "import matplotlib.pyplot as plt\n",
    "import seaborn as sns\n",
    "\n",
    "df = pd.read_csv(\"file.csv\")\n",
    "sns.scatter(x=\"total_bill\", y=\"tip\", data=df, \n",
    "              hue=\"smoker\", hue_order=[\"Yes\",\"No\"])\n",
    "plt.show()\n",
    "```"
   ]
  },
  {
   "cell_type": "markdown",
   "id": "8b0a038e",
   "metadata": {},
   "source": [
    "#### 4. Specifying hue colors with ``pallete``\n",
    "\n",
    "- You can also control the colors assigned to each value using the ``palette`` parameter.`\n",
    "    - This parameter takes in a dictionary, which is a data structure that has key-value pairs.\n",
    "    - This dictionary should map the variable values to the colors you want to represent the value.\n",
    "\n",
    "```\n",
    "import pandas as pd\n",
    "import matplotlib.pyplot as plt\n",
    "import seaborn as sns\n",
    "\n",
    "df = pd.read_csv(\"file.csv\")\n",
    "hue_colors = {\"Yes\":\"black\",\n",
    "              \"No\":\"red\"}\n",
    "sns.scatter(x=\"total_bill\", y=\"tip\", data=df, \n",
    "              hue=\"smoker\", pallete=hue_colors)\n",
    "plt.show()\n",
    "```"
   ]
  },
  {
   "cell_type": "markdown",
   "id": "b298e70a",
   "metadata": {},
   "source": [
    "#### 5. Using hue with count plots\n",
    "\n",
    "```\n",
    "import pandas as pd\n",
    "import matplotlib.pyplot as plt\n",
    "import seaborn as sns\n",
    "\n",
    "df = pd.read_csv(\"file.csv\")\n",
    "sns.countplot(x=\"smoker\", data=df, hue=\"sex\")\n",
    "plt.show()\n",
    "```"
   ]
  },
  {
   "cell_type": "markdown",
   "id": "44187b79",
   "metadata": {},
   "source": [
    "## 7.2 Visualizing two quantitative variables"
   ]
  },
  {
   "cell_type": "markdown",
   "id": "525dd865",
   "metadata": {},
   "source": [
    "### Introduction to relational plots and subplots\n",
    "\n",
    "Many questions in data science are centered around describing the relationship between two quantitative variables. Seaborn calls plots that visualize this relationship \"relational plots\"."
   ]
  },
  {
   "cell_type": "markdown",
   "id": "627fd6d7",
   "metadata": {},
   "source": [
    "#### 1. Visualizing subgroups\n",
    "\n",
    "We will create a separate plot per subgroup. To do this, we're going to introduce a new Seaborn function: ``relplot()``\n",
    "\n",
    "- Stands for 'relational plot' and enables you to visualize the relationship between two quantitative variables using either scatter plots or line plots.\n",
    "- Using ``relplot()`` gives us a big advantage: the ability to create subplots in a single figure.\n",
    "\n",
    "```\n",
    "# Using scatterplot()\n",
    "import pandas as pd\n",
    "import matplotlib.pyplot as plt\n",
    "import seaborn as sns\n",
    "\n",
    "df = pd.read_csv(\"file.csv\")\n",
    "sns.scatter(x=\"total_bill\", y=\"tip\", data=df)\n",
    "plt.show()\n",
    "```\n",
    "\n",
    "```\n",
    "# Using relplot()\n",
    "import pandas as pd\n",
    "import matplotlib.pyplot as plt\n",
    "import seaborn as sns\n",
    "\n",
    "df = pd.read_csv(\"file.csv\")\n",
    "sns.relplot(x=\"total_bill\", y=\"tip\", data=df, kind=\"scatter\")\n",
    "plt.show()\n",
    "```"
   ]
  },
  {
   "cell_type": "markdown",
   "id": "dca3f135",
   "metadata": {},
   "source": [
    "#### 2. Subplots in columns\n",
    "\n",
    "- By setting ``col`` equal to \"smoker\", we get a separate scatter plot for a variable with 2 possible results\n",
    "\n",
    "```\n",
    "import pandas as pd\n",
    "import matplotlib.pyplot as plt\n",
    "import seaborn as sns\n",
    "\n",
    "df = pd.read_csv(\"file.csv\")\n",
    "sns.relplot(x=\"total_bill\", y=\"tip\", data=df, kind=\"scatter\", \n",
    "            col=\"smoker\")\n",
    "plt.show()\n",
    "```"
   ]
  },
  {
   "cell_type": "markdown",
   "id": "6e81cc62",
   "metadata": {},
   "source": [
    "#### 3. Subplots in rows\n",
    "\n",
    "- If you want to arrange these vertically in rows instead, you can use the ``row`` parameter instead of ``col``.\n",
    "\n",
    "```\n",
    "import pandas as pd\n",
    "import matplotlib.pyplot as plt\n",
    "import seaborn as sns\n",
    "\n",
    "df = pd.read_csv(\"file.csv\")\n",
    "sns.relplot(x=\"total_bill\", y=\"tip\", data=df, kind=\"scatter\", \n",
    "            row=\"smoker\")\n",
    "plt.show()\n",
    "```"
   ]
  },
  {
   "cell_type": "markdown",
   "id": "eae25f04",
   "metadata": {},
   "source": [
    "#### 4. Subplots in rows and columns\n",
    "\n",
    "- It is possible to use both \"col\" and \"row\" at the same time.\n",
    "- We will have a subplot for each combination of two categorical variables.\n",
    "\n",
    "```\n",
    "import pandas as pd\n",
    "import matplotlib.pyplot as plt\n",
    "import seaborn as sns\n",
    "\n",
    "df = pd.read_csv(\"file.csv\")\n",
    "sns.relplot(x=\"total_bill\", y=\"tip\", data=df, kind=\"scatter\", \n",
    "            col=\"smoker\", row=\"time\")\n",
    "plt.show()\n",
    "```"
   ]
  },
  {
   "cell_type": "markdown",
   "id": "9fffb895",
   "metadata": {},
   "source": [
    "#### 5. Subplots for days of the week\n",
    "\n",
    "- To address this, you can use the ``col_wrap`` parameter to specify how many subplots you want per row.\n",
    "\n",
    "```\n",
    "import pandas as pd\n",
    "import matplotlib.pyplot as plt\n",
    "import seaborn as sns\n",
    "\n",
    "df = pd.read_csv(\"file.csv\")\n",
    "sns.relplot(x=\"total_bill\", y=\"tip\", data=df, kind=\"scatter\", \n",
    "            col=\"smoker\", col_wrap=2)\n",
    "plt.show()\n",
    "```"
   ]
  },
  {
   "cell_type": "markdown",
   "id": "d615f4f4",
   "metadata": {},
   "source": [
    "#### 6. Ordering columns\n",
    "\n",
    "- To address this, you can use the ``col_wrap`` parameter to specify how many subplots you want per row.\n",
    "\n",
    "```\n",
    "import pandas as pd\n",
    "import matplotlib.pyplot as plt\n",
    "import seaborn as sns\n",
    "\n",
    "df = pd.read_csv(\"file.csv\")\n",
    "sns.relplot(x=\"total_bill\", y=\"tip\", data=df, kind=\"scatter\", \n",
    "            col=\"smoker\", col_wrap=2,\n",
    "            col_order=[\"Thur\", \"Fri\", \"Sat\", \"Sun\"])\n",
    "plt.show()\n",
    "```"
   ]
  },
  {
   "cell_type": "markdown",
   "id": "c52fde73",
   "metadata": {},
   "source": [
    "### Customizing scatter plots\n",
    "\n",
    "Scatter plots are a great tool for visualizing the relationship between two quantitative variables.\n",
    "\n",
    "Seaborn allows you to add more information to scatter plots by varying the size, the style, and the transparency of the points."
   ]
  },
  {
   "cell_type": "markdown",
   "id": "1693cec4",
   "metadata": {},
   "source": [
    "#### 1. Subgroups with point size and hue\n",
    "\n",
    "- We'll set the ``size`` parameter equal to the variable name \"size\" from our dataset.\n",
    "- Larger groups have both larger and darker points, which provides better contrast and makes the plot easier to read.\n",
    "\n",
    "```\n",
    "import pandas as pd\n",
    "import matplotlib.pyplot as plt\n",
    "import seaborn as sns\n",
    "\n",
    "df = pd.read_csv(\"file.csv\")\n",
    "sns.relplot(x=\"total_bill\", y=\"tip\", data=df, kind=\"scatter\",\n",
    "            size=\"size\", hue=\"size\")\n",
    "plt.show()\n",
    "```"
   ]
  },
  {
   "cell_type": "markdown",
   "id": "3220e418",
   "metadata": {},
   "source": [
    "#### 2. Subgroups with point style\n",
    "\n",
    "- Setting the ``style`` parameter to a variable name will use different point styles for each value of the variable.\n",
    "\n",
    "```\n",
    "import pandas as pd\n",
    "import matplotlib.pyplot as plt\n",
    "import seaborn as sns\n",
    "\n",
    "df = pd.read_csv(\"file.csv\")\n",
    "sns.relplot(x=\"total_bill\", y=\"tip\", data=df, kind=\"scatter\",\n",
    "            hue=\"smoker\", style=\"smoker\")\n",
    "plt.show()\n",
    "```"
   ]
  },
  {
   "cell_type": "markdown",
   "id": "a6693142",
   "metadata": {},
   "source": [
    "#### 3. Changing point transparency\n",
    "\n",
    "- Setting the ``alpha`` parameter to a value between 0 and 1 will vary the transparency of the points in the plot\n",
    "    - 0 being completely transparent\n",
    "    - 1 being completely non-transparent.\n",
    "\n",
    "```\n",
    "import pandas as pd\n",
    "import matplotlib.pyplot as plt\n",
    "import seaborn as sns\n",
    "\n",
    "df = pd.read_csv(\"file.csv\")\n",
    "sns.relplot(x=\"total_bill\", y=\"tip\", data=df, kind=\"scatter\",\n",
    "            alpha=0.4)\n",
    "plt.show()\n",
    "```"
   ]
  },
  {
   "cell_type": "markdown",
   "id": "ee899171",
   "metadata": {},
   "source": [
    "### Intro to line plots\n",
    "\n",
    "In Seaborn, we have two types of relational plots: scatter plots and line plots. While each point in a scatter plot is assumed to be an independent observation, line plots are the visualization of choice when we need to track the same thing over time.\n",
    "\n",
    "- By specifying \"kind\" equals \"line\", we can create a line plot\n",
    "\n",
    "```\n",
    "import pandas as pd\n",
    "import matplotlib.pyplot as plt\n",
    "import seaborn as sns\n",
    "\n",
    "df = pd.read_csv(\"file.csv\")\n",
    "sns.relplot(x=\"hour\", y=\"NO_2_mean\", data=df, kind=\"line\")\n",
    "plt.show()\n",
    "```"
   ]
  },
  {
   "cell_type": "markdown",
   "id": "8dbdf21d",
   "metadata": {},
   "source": [
    "#### 1. Subgroups by variable\n",
    "\n",
    "- Setting the ``style`` and ``hue`` parameters equal to the variable name \"location\" creates different lines for each region that vary in both line style and color. \n",
    "\n",
    "```\n",
    "import pandas as pd\n",
    "import matplotlib.pyplot as plt\n",
    "import seaborn as sns\n",
    "\n",
    "df = pd.read_csv(\"file.csv\")\n",
    "sns.relplot(x=\"hour\", y=\"NO_2_mean\", data=df, kind=\"line\",\n",
    "            style=\"location\", hue=\"location\")\n",
    "plt.show()\n",
    "```"
   ]
  },
  {
   "cell_type": "markdown",
   "id": "1b9c2a0b",
   "metadata": {},
   "source": [
    "#### 2. Adding markers\n",
    "\n",
    "- Setting the \"markers\" parameter equal to \"True\" will display a marker for each data point.\n",
    "- The marker will vary based on the subgroup you've set using the \"style\" parameter.\n",
    "\n",
    "```\n",
    "import pandas as pd\n",
    "import matplotlib.pyplot as plt\n",
    "import seaborn as sns\n",
    "\n",
    "df = pd.read_csv(\"file.csv\")\n",
    "sns.relplot(x=\"hour\", y=\"NO_2_mean\", data=df, kind=\"line\",\n",
    "            style=\"location\", hue=\"location\", markers=True)\n",
    "plt.show()\n",
    "```"
   ]
  },
  {
   "cell_type": "markdown",
   "id": "6ff347d0",
   "metadata": {},
   "source": [
    "#### 3. Turning off line style\n",
    "\n",
    "- If you don't want the line styles to vary by subgroup, set the ``dashes`` parameter equal to \"False\".\n",
    "\n",
    "```\n",
    "import pandas as pd\n",
    "import matplotlib.pyplot as plt\n",
    "import seaborn as sns\n",
    "\n",
    "df = pd.read_csv(\"file.csv\")\n",
    "sns.relplot(x=\"hour\", y=\"NO_2_mean\", data=df, kind=\"line\",\n",
    "            style=\"location\", hue=\"location\", markers=True, dashes=False)\n",
    "plt.show()\n",
    "```"
   ]
  },
  {
   "cell_type": "markdown",
   "id": "3a1ec649",
   "metadata": {},
   "source": [
    "#### 4. Multiple observations per x-value\n",
    "\n",
    "- If a line plot is given multiple observations per x-value, it will aggregate them into a single summary measure. By default, it will display the mean.\n",
    "- Seaborn will automatically calculate a confidence interval for the mean, displayed by the shaded region.\n",
    "- Confidence intervals indicate the uncertainty we have about what the true mean is for the whole city.\n",
    "   - This tells us that based on our sample, we can be 95% confident that the average measure is within this range.\n",
    "\n",
    "```\n",
    "import pandas as pd\n",
    "import matplotlib.pyplot as plt\n",
    "import seaborn as sns\n",
    "\n",
    "df = pd.read_csv(\"file.csv\")\n",
    "sns.relplot(x=\"hour\", y=\"NO_2_mean\", data=df, kind=\"line\")\n",
    "plt.show()\n",
    "```"
   ]
  },
  {
   "cell_type": "markdown",
   "id": "e27e0140",
   "metadata": {},
   "source": [
    "#### 5. Replacing confidence interval with standard deviation\n",
    "\n",
    "- Instead of visualizing a confidence interval, we may want to see how varied the measurements are across the different collection stations at a given point in time. \n",
    "- To visualize this, set the ``ci`` parameter equal to the string ``sd`` to make the shaded area represent the standard deviation, which shows the spread of the distribution of observations at each x value.\n",
    "- To turn it off, we set ``ci`` as ``None``\n",
    "\n",
    "```\n",
    "import pandas as pd\n",
    "import matplotlib.pyplot as plt\n",
    "import seaborn as sns\n",
    "\n",
    "df = pd.read_csv(\"file.csv\")\n",
    "sns.relplot(x=\"hour\", y=\"NO_2_mean\", data=df, kind=\"line\", ci=\"sd\")\n",
    "plt.show()\n",
    "```"
   ]
  },
  {
   "cell_type": "markdown",
   "id": "60d2e88d",
   "metadata": {},
   "source": [
    "## 7.3 Visualizing a categorical and a quantitative variable\n",
    "\n",
    "Count plots and bar plots are two types of visualizations that Seaborn calls \"categorical plots\".\n",
    "\n",
    "Categorical plots involve a categorical variable, which is a variable that consists of a fixed, typically small number of possible values, or categories.\n",
    "\n",
    "These types of plots are commonly used when we want to make comparisons between different groups.\n",
    "\n",
    "``catplot()`` is used to create different types of categorical plots.\n",
    "   - Use the ``kind`` parameter to specify what kind of categorical plot to use.\n",
    "   - To change the order of the categories, create a list of category values in the order that you want them to appear, and then use the ``order`` parameter. "
   ]
  },
  {
   "cell_type": "markdown",
   "id": "35a20656",
   "metadata": {},
   "source": [
    "### Count plots vs bar plots\n",
    "\n",
    "- A count plot displays the number of observations in each category.\n",
    "- Bar plots look similar to count plots, but instead of the count of observations in each category, they show the mean of a quantitative variable among observations in each category.\n",
    "    - Seaborn automatically shows 95% confidence intervals for these means.\n",
    "    - You can also change the orientation of the bars in bar plots and count plots by switching the x and y parameters.\n",
    "- Bar plot using ``catplot()``\n",
    "\n",
    "\n",
    "```\n",
    "# COUNT PLOT\n",
    "import pandas as pd\n",
    "import matplotlib.pyplot as plt\n",
    "import seaborn as sns\n",
    "df = pd.read_csv(\"file.csv\")\n",
    "sns.catplot(x=\"how_masculine\", data=df, kind=\"count\")\n",
    "plt.show()\n",
    "```\n",
    "\n",
    "```\n",
    "# BAR PLOT\n",
    "import pandas as pd\n",
    "import matplotlib.pyplot as plt\n",
    "import seaborn as sns\n",
    "df = pd.read_csv(\"file.csv\")\n",
    "sns.catplot(x=\"day\", y=\"total_bill\", data=df, kind=\"bar\")\n",
    "plt.show()\n",
    "```"
   ]
  },
  {
   "cell_type": "markdown",
   "id": "b18083c5",
   "metadata": {},
   "source": [
    "#### 1. Changing the order and turning off confidence interval\n",
    "\n",
    "1. To change the order of the categories, create a list of category values in the order that you want them to appear, and then use the \"order\" parameter.\n",
    "    - Applies to all types of categorical plots\n",
    "2. To turn off the condfidence interval in bar plots, set ``ci=None``\n",
    "\n",
    "```\n",
    "import pandas as pd\n",
    "import matplotlib.pyplot as plt\n",
    "import seaborn as sns\n",
    "df = pd.read_csv(\"file.csv\")\n",
    "category_order =  [\"No answer\", \"Not at all\", \"Not very\", \"Somewhat\", \"Very\"]\n",
    "sns.catplot(x=\"how_masculine\", data=df, kind=\"count\", order=category_order)\n",
    "plt.show()\n",
    "```"
   ]
  },
  {
   "cell_type": "markdown",
   "id": "868802e3",
   "metadata": {},
   "source": [
    "### Box plots\n",
    "\n",
    "- A box plot shows the distribution of quantitative data. It is commonly used as a way to compare the distribution of a quantitative variable across different groups of a categorical variable.\n",
    "- The colored box represents the 25th to 75th percentile, and the line in the middle of the box represents the median.\n",
    "- The whiskers give a sense of the spread of the distribution, and the floating points represent outliers.\n",
    "\n",
    "```\n",
    "import pandas as pd\n",
    "import matplotlib.pyplot as plt\n",
    "import seaborn as sns\n",
    "df = pd.read_csv(\"file.csv\")\n",
    "sns.catplot(x=\"time\", y=\"total_bill\", data=df, kind=\"box\")\n",
    "plt.show()\n",
    "```"
   ]
  },
  {
   "cell_type": "markdown",
   "id": "8da812b8",
   "metadata": {},
   "source": [
    "#### 1. Change the order of categories\n",
    "\n",
    "- `catplot()` allows you to change the order of the categories using the `order` parameter.\n",
    "```\n",
    "import pandas as pd\n",
    "import matplotlib.pyplot as plt\n",
    "import seaborn as sns\n",
    "df = pd.read_csv(\"file.csv\")\n",
    "sns.catplot(x=\"time\", y=\"total_bill\", data=df, kind=\"box\")\n",
    "plt.show()\n",
    "```"
   ]
  },
  {
   "cell_type": "markdown",
   "id": "2d94cb3e",
   "metadata": {},
   "source": [
    "#### 2. Omitting the outliers using `sym`\n",
    "\n",
    "- If you pass an empty string into ``sym``, it will omit the outliers from your plot altogether.\n",
    "- ``sym`` can also be used to change the appearance of the outliers instead of omitting them.\n",
    "```\n",
    "import pandas as pd\n",
    "import matplotlib.pyplot as plt\n",
    "import seaborn as sns\n",
    "df = pd.read_csv(\"file.csv\")\n",
    "sns.catplot(x=\"time\", y=\"total_bill\", data=df, kind=\"box\", sym=\"\")\n",
    "plt.show()\n",
    "```"
   ]
  },
  {
   "cell_type": "markdown",
   "id": "b87d00ee",
   "metadata": {},
   "source": [
    "#### 4. Changing the whiskers using `whis`\n",
    "\n",
    "- By default, the whiskers extend to 1 point 5 times the interquartile range, or \"IQR\".\n",
    "    - The IQR is the 25th to the 75th percentile of a distribution of data.\n",
    "- You can change the range of the whiskers from 1 point 5 times the IQR (which is the default) to 2 times the IQR by setting \"whis\" equal to 2 point 0.\n",
    "- you can have the whiskers define specific lower and upper percentiles by passing in a list of the lower and upper values.\n",
    "\n",
    "```\n",
    "import pandas as pd\n",
    "import matplotlib.pyplot as plt\n",
    "import seaborn as sns\n",
    "df = pd.read_csv(\"file.csv\")\n",
    "sns.catplot(x=\"time\", y=\"total_bill\", data=df, kind=\"box\", whis=2.0) # whis=[5,95]\n",
    "plt.show()\n",
    "```"
   ]
  },
  {
   "cell_type": "markdown",
   "id": "8db7a982",
   "metadata": {},
   "source": [
    "### Point plots\n",
    "\n",
    "- Point plots show the mean of a quantitative variable for the observations in each category, plotted as a single point.\n",
    "- The vertical bars extending above and below the mean represent the 95% confidence intervals for that mean.\n",
    "- Look similar to line plots. \n",
    "    - Line plots are relational plots, so both the x- and y-axis are quantitative variables.\n",
    "    - In a point plot, one axis - usually the x-axis - is a categorical variable, making it a categorical plot.\n",
    "- In the point plot, it's easier to compare the heights of the subgroup points when they're stacked above each other.\n",
    "- It's also easier to look at the differences in slope between the categories than it is to compare the heights of the bars between them.\n",
    "\n",
    "```\n",
    "import pandas as pd\n",
    "import matplotlib.pyplot as plt\n",
    "import seaborn as sns\n",
    "df = pd.read_csv(\"file.csv\")\n",
    "sns.catplot(x=\"time\", y=\"total_bill\", data=df, hue=\"feel_masculine\", kind=\"point\")\n",
    "plt.show()\n",
    "```"
   ]
  },
  {
   "cell_type": "markdown",
   "id": "5ae74aba",
   "metadata": {},
   "source": [
    "#### 1. Disconnecting the points\n",
    "\n",
    "- We may want to remove the lines connecting each point, perhaps because we only wish to compare within a category group and not between them.\n",
    "\n",
    "```\n",
    "sns.catplot(x=\"time\", y=\"total_bill\", data=df, hue=\"feel_masculine\", kind=\"point\", join=False)\n",
    "```"
   ]
  },
  {
   "cell_type": "markdown",
   "id": "002b7892",
   "metadata": {},
   "source": [
    "#### 2. Displaying the median\n",
    "\n",
    "- To have the points and confidence intervals be calculated for the median instead of the mean, import the median function from the numpy library and set \"estimator\" equal to the numpy median function.\n",
    "- The median is more robust to outliers, so if your dataset has a lot of outliers, the median may be a better statistic to use.\n",
    "\n",
    "```\n",
    "from numpy import mnedian\n",
    "sns.catplot(x=\"time\", y=\"total_bill\", data=df, hue=\"feel_masculine\", kind=\"point\", estimator=median)\n",
    "```"
   ]
  },
  {
   "cell_type": "markdown",
   "id": "ade6edd9",
   "metadata": {},
   "source": [
    "#### 3. Customizing the confidence intervals\n",
    "\n",
    "- You can also customize the way that the confidence intervals are displayed.\n",
    "- To add “caps” to the end of the confidence intervals, set the ``capsize`` parameter equal to the desired width of the caps.\n",
    "\n",
    "```\n",
    "sns.catplot(x=\"time\", y=\"total_bill\", data=df, hue=\"feel_masculine\", kind=\"point\", capsize=0.2)\n",
    "```"
   ]
  },
  {
   "cell_type": "markdown",
   "id": "6584345d",
   "metadata": {},
   "source": [
    "#### 4. Turning off confidence intervals\n",
    "\n",
    "- Like we saw with line plots and bar plots, you can turn the confidence intervals off by setting the parameter ``ci=None``.\n",
    "\n",
    "```\n",
    "sns.catplot(x=\"time\", y=\"total_bill\", data=df, hue=\"feel_masculine\", kind=\"point\", ci=None)\n",
    "```"
   ]
  },
  {
   "cell_type": "markdown",
   "id": "db551ee0",
   "metadata": {},
   "source": [
    "## 7.4 Customizing Seaborn Plots"
   ]
  },
  {
   "cell_type": "markdown",
   "id": "01d96657",
   "metadata": {},
   "source": [
    "## Changing plot style and color\n",
    "\n",
    "Changing the style of a plot can be motivated by personal preference, but it can also help improve its readability or help orient an audience more quickly to the key takeaway.\n",
    "\n",
    "1. Changing the figure style: Seaborn has five preset figure styles which change the background and axes of the plot by using``sns.set_style()`\n",
    "    - \"white\", \"dark\", \"whitegrid\", \"darkgrid\", and \"ticks\"\n",
    "\n",
    "2. Changing the palette: You can change the color of the main elements of the plot with Seaborn's ``sns.set_pallete()`` function.\n",
    "    - Seaborn has a group of preset palettes called diverging palettes that are great to use if your visualization deals with a scale where the two ends of the scale are opposites and there is a neutral midpoint.\n",
    "    - Note that if you append the palette name with \"_r\", you can reverse the palette.\n",
    "    - Sequential palettes are great for emphasizing a variable on a continuous scale.\n",
    "\n",
    "3. Changing the scale: You can change the scale of your plot by using the ``sns.set_context()`` function.\n",
    "    - The scale options from smallest to largest are \"paper\", \"notebook\", \"talk\", and \"poster\".\n",
    "    -  Default context: \"paper\".\n",
    "    - You'll want to choose a larger scale like \"talk\" for posters or presentations where the audience is further away from the plot. "
   ]
  },
  {
   "cell_type": "markdown",
   "id": "10a4cf90",
   "metadata": {},
   "source": [
    "## Adding titles and labels\n",
    "\n",
    "We create data visualizations to communicate information, and we can't do that effectively without a clear title and informative axis labels."
   ]
  },
  {
   "cell_type": "markdown",
   "id": "cc197b86",
   "metadata": {},
   "source": [
    "#### 1. FacetGrid vs. AxesSubplot objects\n",
    "\n",
    "Seaborn's plot functions create two different types of objects: FacetGrids and AxesSubplots.\n",
    "- To figure out which type of object you're working with, first assign the plot output to a variable.\n",
    "- In the documentation, the variable is often named \"g\", so we'll do that here as well.\n",
    "- Write \"type\" \"g\" to return the object type.\n",
    "\n",
    "Recall that \"relplot()\" and \"catplot()\" both support making subplots. This means that they are creating FacetGrid objects.\n",
    "\n",
    "In contrast, single-type plot functions like \"scatterplot()\" and \"countplot()\" return a single AxesSubplot object."
   ]
  },
  {
   "cell_type": "markdown",
   "id": "c2dfbe67",
   "metadata": {},
   "source": [
    "#### A1. Adding a title to FacetGrid\n",
    "\n",
    "- To add a title to a FacetGrid object, first assign the plot to the variable \"g\".\n",
    "- After you assign the plot to \"g\", you can set the title using \"g dot fig dot suptitle\".\n",
    "- This tells Seaborn you want to set a title for the figure as a whole.\n",
    "\n",
    "```\n",
    "g = sns.catplot(x=\"Region\", y=\"Birthrate\", data=df, kind=\"box\")\n",
    "g.fig.suptitle(\"New Title\")\n",
    "plt.show()\n",
    "```"
   ]
  },
  {
   "cell_type": "markdown",
   "id": "0f6cbac2",
   "metadata": {},
   "source": [
    "#### A2. Adjusting height of title in FacetGrid\n",
    "\n",
    "- Note that by default, the figure title might be a little low.\n",
    "- To adjust the height of the title, you can use the \"y\" parameter.\n",
    "- The default value is 1, so setting it to 1 point 03 will make it a little higher than the default.\n",
    "\n",
    "```\n",
    "g = sns.catplot(x=\"Region\", y=\"Birthrate\", data=df, kind=\"box\")\n",
    "g.fig.suptitle(\"New Title\", y=1.03)\n",
    "plt.show()\n",
    "```"
   ]
  },
  {
   "cell_type": "markdown",
   "id": "cd295007",
   "metadata": {},
   "source": [
    "#### A3. Titles for subplots\n",
    "\n",
    "- To alter the subplot titles, use ``g.set_titles`` to set the titles for each AxesSubplot.\n",
    "- If you want to use the variable name in the title, you can use \"col name\" in braces to reference the column value.\n",
    "\n",
    "```\n",
    "g = sns.catplot(x=\"Region\", y=\"Birthrate\", data=df, kind=\"box\", col=\"Group\")\n",
    "g.fig.suptitle(\"New Title\", y=1.03)\n",
    "g.set_titles(\"This is {col_name})\n",
    "plt.show()\n",
    "```"
   ]
  },
  {
   "cell_type": "markdown",
   "id": "42829dfb",
   "metadata": {},
   "source": [
    "#### B1. Adding a title to AxesSubplot\n",
    "\n",
    "- To add a title to an AxesSubplot object, assign the plot to a variable and use “g dot set_title”.\n",
    "- You can also use the “y” parameter here to adjust the height of the title.\n",
    "\n",
    "```\n",
    "g = sns.boxplot(x=\"Region\", y=\"Birthrate\", data=df)\n",
    "g.set_title(\"New Title\", y=1.03)\n",
    "plt.show()\n",
    "```"
   ]
  },
  {
   "cell_type": "markdown",
   "id": "4a06ff48",
   "metadata": {},
   "source": [
    "#### 2. Adding axis labels\n",
    "\n",
    "- To add axis labels, assign the plot to a variable and then call the ``set()`` function.\n",
    "- Set the parameters ``x_label`` and ``y_label`` to set the desired x-axis and y-axis labels, respectively.\n",
    "- This works with both **FacetGrid** and **AxesSubplot objects**.\n",
    "\n",
    "```\n",
    "g = sns.catplot(x=\"Region\", y=\"Birthrate\", data=df, kind=\"box\", col=\"Group\")\n",
    "g.set(xlabel=\"New X Label\", ylabel= \"New Y Label\")\n",
    "plt.show()\n",
    "```"
   ]
  },
  {
   "cell_type": "markdown",
   "id": "42748fac",
   "metadata": {},
   "source": [
    "#### 3. Rotating x-axis tick labels\n",
    "\n",
    "- Your tick labels may overlap, making it hard to interpret the plot.\n",
    "- One way to address this is by rotating the tick labels. To do this, we don't call a function on the plot object itself.\n",
    "- Instead, after we create the plot, we call the matplotlib function \"plt. dot xticks\" and set \"rotation\" equal to 90 degrees.\n",
    "- This works with both **FacetGrid** and **AxesSubplot objects**.\n",
    "\n",
    "```\n",
    "g = sns.catplot(x=\"Region\", y=\"Birthrate\", data=df, kind=\"box\")\n",
    "plt.xticks(rotation=90)\n",
    "plt.show()\n",
    "```"
   ]
  }
 ],
 "metadata": {
  "colab": {
   "provenance": []
  },
  "kernelspec": {
   "display_name": "Python 3 (ipykernel)",
   "language": "python",
   "name": "python3"
  },
  "language_info": {
   "codemirror_mode": {
    "name": "ipython",
    "version": 3
   },
   "file_extension": ".py",
   "mimetype": "text/x-python",
   "name": "python",
   "nbconvert_exporter": "python",
   "pygments_lexer": "ipython3",
   "version": "3.12.4"
  }
 },
 "nbformat": 4,
 "nbformat_minor": 5
}
